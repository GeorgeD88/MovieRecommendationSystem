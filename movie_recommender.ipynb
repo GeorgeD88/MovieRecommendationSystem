{
 "cells": [
  {
   "cell_type": "markdown",
   "metadata": {},
   "source": [
    "# Movie Recommender System\n",
    "A basic content-based Movie Recommender system. When given a movie, the system will recommend N most similar movies that you might like.\n",
    "\n",
    "In the future I would like to use the ratings & user data to make an item-based collaborative filtering recommender system."
   ]
  },
  {
   "cell_type": "markdown",
   "metadata": {},
   "source": [
    "Dataset is used is the MovieLens latest dataset (small version), which can be found here: https://grouplens.org/datasets/movielens/#:~:text=recommended%20for%20education%20and%20development"
   ]
  },
  {
   "cell_type": "markdown",
   "metadata": {},
   "source": [
    "## Text Preprocessing\n",
    "1. We will **combine the different textual columns into a single text feature,** the multiple features being the movie name, genres, and tags.\n",
    "2. Then all **text will be converted to lowercase** to ensure uniformity.\n",
    "3. **Punctuation and special characters will be removed** to further reduce unnecessary variance.\n",
    "4. **The text will be tokenized,** which is essential for natural language processing (will also remove stop words)."
   ]
  },
  {
   "cell_type": "code",
   "execution_count": 1,
   "metadata": {},
   "outputs": [],
   "source": [
    "# Import libraries\n",
    "import pandas as pd\n",
    "import numpy as np\n",
    "import re\n",
    "\n",
    "# Google News Word2Vec model\n",
    "from gensim.models import KeyedVectors\n",
    "from sklearn.metrics.pairwise import cosine_similarity"
   ]
  },
  {
   "cell_type": "code",
   "execution_count": 2,
   "metadata": {},
   "outputs": [],
   "source": [
    "# Load data from movies and tags files\n",
    "movies_df = pd.read_csv('ml-latest-small/movies.csv')\n",
    "tags_df = pd.read_csv('ml-latest-small/tags.csv')"
   ]
  },
  {
   "cell_type": "code",
   "execution_count": 3,
   "metadata": {},
   "outputs": [],
   "source": [
    "# Aggregate tags by movieId\n",
    "tags_combined = tags_df.groupby('movieId')['tag'].apply(lambda x: ' '.join(set(x.astype(str)))).reset_index()\n",
    "\n",
    "# Merge tags with movies dataframe\n",
    "movies_with_tags = pd.merge(movies_df, tags_combined, on='movieId', how='left')\n",
    "\n",
    "# Handle missing tags\n",
    "movies_with_tags['tag'] = movies_with_tags['tag'].fillna('notags')\n",
    "\n",
    "# Split genres by spaces\n",
    "movies_with_tags['genres'] = movies_with_tags['genres'].str.replace('|', ' ', regex=False)\n",
    "\n",
    "def preprocess_title(title: str):\n",
    "    # Remove leading and trailing quotation marks if they exist\n",
    "    if title.startswith('\"') and title.endswith('\"'):\n",
    "        title = title[1:-1]\n",
    "\n",
    "    # Remove year from the title\n",
    "    title = re.sub(r' \\(\\d{4}\\)$', '', title)\n",
    "\n",
    "    return title\n",
    "\n",
    "# Apply the preprocess_title function to the title column\n",
    "movies_with_tags['title'] = movies_with_tags['title'].apply(preprocess_title)\n",
    "\n",
    "# print(movies_with_tags.head())"
   ]
  },
  {
   "cell_type": "code",
   "execution_count": 4,
   "metadata": {},
   "outputs": [
    {
     "name": "stdout",
     "output_type": "stream",
     "text": [
      "                                   combined_features\n",
      "0  toy story adventure animation children comedy ...\n",
      "1  jumanji adventure children fantasy fantasy gam...\n",
      "2          grumpier old men comedy romance moldy old\n",
      "3      waiting to exhale comedy drama romance notags\n",
      "4  father of the bride part ii comedy pregnancy r...\n"
     ]
    }
   ],
   "source": [
    "# Combine into a single text feature\n",
    "movies_with_tags['combined_features'] = (movies_with_tags['title'] + ' ' +\n",
    "                                         movies_with_tags['genres'] + ' ' +\n",
    "                                         movies_with_tags['tag'])\n",
    "\n",
    "# Convert text to lowercase\n",
    "movies_with_tags['combined_features'] = movies_with_tags['combined_features'].str.lower()\n",
    "\n",
    "# Replace hyphens and underscore with spaces\n",
    "movies_with_tags['combined_features'] = movies_with_tags['combined_features'].str.replace(r'[-_]+', ' ', regex=True)\n",
    "\n",
    "# Remove punctuation and special characters\n",
    "movies_with_tags['combined_features'] = movies_with_tags['combined_features'].apply(lambda x: re.sub(r'[\\W_]+', ' ', x))\n",
    "\n",
    "# Replace repeating spaces with a single space\n",
    "movies_with_tags['combined_features'] = movies_with_tags['combined_features'].str.replace(r'\\s+', ' ', regex=True)\n",
    "\n",
    "# Tokenization and stop word removal happens during vectorization\n",
    "\n",
    "print(movies_with_tags[['combined_features']].head())"
   ]
  },
  {
   "cell_type": "markdown",
   "metadata": {},
   "source": [
    "## Word2Vec\n",
    "After preprocessing the text, we can proceed to **Word2Vec.** We will use a pre-trained model to vectorize our text data."
   ]
  },
  {
   "cell_type": "code",
   "execution_count": 5,
   "metadata": {},
   "outputs": [
    {
     "data": {
      "text/plain": [
       "Index(['movieId', 'title', 'genres', 'tag', 'combined_features'], dtype='object')"
      ]
     },
     "execution_count": 5,
     "metadata": {},
     "output_type": "execute_result"
    }
   ],
   "source": [
    "movies_with_tags.columns"
   ]
  },
  {
   "cell_type": "markdown",
   "metadata": {},
   "source": [
    "Download Google's pre-trained Word2Vec model here: https://drive.google.com/file/d/0B7XkCwpI5KDYNlNUTTlSS21pQmM/edit?resourcekey=0-wjGZdNAUop6WykTtMip30g"
   ]
  },
  {
   "cell_type": "code",
   "execution_count": 6,
   "metadata": {},
   "outputs": [],
   "source": [
    "# Load the pre-trained Word2Vec model (this example uses the Google News model)\n",
    "model_path = 'GoogleNews-vectors-negative300.bin'\n",
    "word2vec_model = KeyedVectors.load_word2vec_format(model_path, binary=True)\n",
    "\n",
    "def vectorize_text(text):\n",
    "    # Tokenize the text\n",
    "    words = text.split()\n",
    "\n",
    "    # Retrieve vectors for each word and ignore out-of-vocabulary words\n",
    "    vectors = [word2vec_model[word] for word in words if word in word2vec_model]\n",
    "\n",
    "    # If no words in the text are in the model, return a zero vector\n",
    "    if not vectors:\n",
    "        return np.zeros(word2vec_model.vector_size)\n",
    "\n",
    "    # Aggregate word vectors using mean\n",
    "    return np.mean(vectors, axis=0)\n",
    "\n",
    "# Apply vectorization to your combined text features\n",
    "movies_with_tags['vector'] = movies_with_tags['combined_features'].apply(vectorize_text)\n",
    "\n",
    "# Now, 'movies_with_tags' contains a 'vector' column with Word2Vec representations"
   ]
  },
  {
   "cell_type": "markdown",
   "metadata": {},
   "source": [
    "## Cosine Similarity\n",
    "We use cosine similarity to give us the N most similar movies based on the given movie."
   ]
  },
  {
   "cell_type": "code",
   "execution_count": 7,
   "metadata": {},
   "outputs": [],
   "source": [
    "# Convert the list of vectors into a matrix (assuming 'vector' column contains numpy arrays)\n",
    "vector_matrix = np.vstack(movies_with_tags['vector'])\n",
    "\n",
    "# Compute cosine similarity matrix\n",
    "cosine_sim_matrix = cosine_similarity(vector_matrix)\n",
    "\n",
    "# cosine_sim_matrix[i, j] represents the similarity score between movie i and movie j\n",
    "\n",
    "def recommend_movies(movie_id, movies_df, cosine_sim_matrix, top_n=10):\n",
    "    # Get the index of the movie that matches the movie_id\n",
    "    movie_idx = movies_df.index[movies_df['movieId'] == movie_id].tolist()[0]\n",
    "\n",
    "    # Get the pairwise similarity scores of all movies with that movie\n",
    "    sim_scores = list(enumerate(cosine_sim_matrix[movie_idx]))\n",
    "\n",
    "    # Sort the movies based on the similarity scores\n",
    "    sim_scores = sorted(sim_scores, key=lambda x: x[1], reverse=True)\n",
    "\n",
    "    # Get the scores of the top_n most similar movies\n",
    "    sim_scores = sim_scores[1:top_n+1]  # Skipping 0 because it's the movie itself\n",
    "\n",
    "    # Get the movie indices\n",
    "    movie_indices = [i[0] for i in sim_scores]\n",
    "\n",
    "    # Return the top_n most similar movies\n",
    "    return movies_df['movieId'].iloc[movie_indices]"
   ]
  },
  {
   "cell_type": "code",
   "execution_count": 8,
   "metadata": {},
   "outputs": [],
   "source": [
    "def get_movie_title(movie_id, movies_df):\n",
    "    # Find the title for the given movie_id\n",
    "    title = movies_df.loc[movies_df['movieId'] == movie_id, 'title'].iloc[0]\n",
    "    return title"
   ]
  },
  {
   "cell_type": "code",
   "execution_count": 10,
   "metadata": {},
   "outputs": [
    {
     "name": "stdout",
     "output_type": "stream",
     "text": [
      "Recommended movies for: Toy Story\n",
      "[78499] Toy Story 3\n",
      "[2294] Antz\n",
      "[65577] Tale of Despereaux, The\n",
      "[166461] Moana\n",
      "[3114] Toy Story 2\n",
      "[53121] Shrek the Third\n",
      "[84637] Gnomeo & Juliet\n",
      "[45074] Wild, The\n",
      "[8974] SpongeBob SquarePants Movie, The\n",
      "[103755] Turbo\n"
     ]
    }
   ],
   "source": [
    "# Example usage\n",
    "movie_id = 1\n",
    "recommended_movie_ids = recommend_movies(movie_id=movie_id, movies_df=movies_with_tags, cosine_sim_matrix=cosine_sim_matrix, top_n=10)\n",
    "# print(f\"Recommended movie IDs for movie ID {movie_id}: {recommended_movie_ids.tolist()}\")\n",
    "recommend_titles = '\\n'.join(f'[{movie_recc}] ' + get_movie_title(movie_recc, movies_with_tags) for movie_recc in recommended_movie_ids.tolist())\n",
    "print(f\"Recommended movies for: {get_movie_title(movie_id, movies_with_tags)}\\n{recommend_titles}\")"
   ]
  }
 ],
 "metadata": {
  "kernelspec": {
   "display_name": "Python 3",
   "language": "python",
   "name": "python3"
  },
  "language_info": {
   "codemirror_mode": {
    "name": "ipython",
    "version": 3
   },
   "file_extension": ".py",
   "mimetype": "text/x-python",
   "name": "python",
   "nbconvert_exporter": "python",
   "pygments_lexer": "ipython3",
   "version": "3.10.12"
  }
 },
 "nbformat": 4,
 "nbformat_minor": 2
}
